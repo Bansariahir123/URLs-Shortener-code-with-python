{
  "nbformat": 4,
  "nbformat_minor": 0,
  "metadata": {
    "colab": {
      "provenance": [],
      "authorship_tag": "ABX9TyP6YWUsGzV/RPBHZxz9np7V",
      "include_colab_link": true
    },
    "kernelspec": {
      "name": "python3",
      "display_name": "Python 3"
    },
    "language_info": {
      "name": "python"
    }
  },
  "cells": [
    {
      "cell_type": "markdown",
      "metadata": {
        "id": "view-in-github",
        "colab_type": "text"
      },
      "source": [
        "<a href=\"https://colab.research.google.com/github/Bansariahir123/URLs-Shortener-code-with-python/blob/main/Untitled45.ipynb\" target=\"_parent\"><img src=\"https://colab.research.google.com/assets/colab-badge.svg\" alt=\"Open In Colab\"/></a>"
      ]
    },
    {
      "cell_type": "code",
      "execution_count": 1,
      "metadata": {
        "id": "7fiNHHDp3ryw",
        "colab": {
          "base_uri": "https://localhost:8080/"
        },
        "outputId": "980052d5-f085-4b99-841f-46b8c4fdc95f"
      },
      "outputs": [
        {
          "output_type": "stream",
          "name": "stdout",
          "text": [
            "Collecting pyshorteners\n",
            "  Downloading pyshorteners-1.0.1.tar.gz (10.0 kB)\n",
            "  Preparing metadata (setup.py) ... \u001b[?25l\u001b[?25hdone\n",
            "Requirement already satisfied: requests in /usr/local/lib/python3.10/dist-packages (from pyshorteners) (2.31.0)\n",
            "Requirement already satisfied: charset-normalizer<4,>=2 in /usr/local/lib/python3.10/dist-packages (from requests->pyshorteners) (3.3.1)\n",
            "Requirement already satisfied: idna<4,>=2.5 in /usr/local/lib/python3.10/dist-packages (from requests->pyshorteners) (3.4)\n",
            "Requirement already satisfied: urllib3<3,>=1.21.1 in /usr/local/lib/python3.10/dist-packages (from requests->pyshorteners) (2.0.7)\n",
            "Requirement already satisfied: certifi>=2017.4.17 in /usr/local/lib/python3.10/dist-packages (from requests->pyshorteners) (2023.7.22)\n",
            "Building wheels for collected packages: pyshorteners\n",
            "  Building wheel for pyshorteners (setup.py) ... \u001b[?25l\u001b[?25hdone\n",
            "  Created wheel for pyshorteners: filename=pyshorteners-1.0.1-py3-none-any.whl size=17481 sha256=11c360cbd37fdf24bc0ef0bc78fed0eafe2b4119121cdb9ddd1f0d33a3a96dca\n",
            "  Stored in directory: /root/.cache/pip/wheels/d5/ff/b3/16d8906f92ab0b042f76a4696fcea11d291d79a2b3a3de1e78\n",
            "Successfully built pyshorteners\n",
            "Installing collected packages: pyshorteners\n",
            "Successfully installed pyshorteners-1.0.1\n",
            "Enter the URL you want to shorten: https://colab.research.google.com/drive/1Aj2jRsgQZaj9wHbvRoP8OUYz0sopxzMU\n",
            "Shortened URL: https://tinyurl.com/ylwp3m2o\n"
          ]
        }
      ],
      "source": [
        "!pip install pyshorteners\n",
        "import pyshorteners\n",
        "\n",
        "def shorten_url():\n",
        "    url = input(\"Enter the URL you want to shorten: \")\n",
        "    s = pyshorteners.Shortener()\n",
        "    shortened_url = s.tinyurl.short(url)\n",
        "    return shortened_url\n",
        "\n",
        "shortened_url = shorten_url()\n",
        "print(f\"Shortened URL: {shortened_url}\")\n"
      ]
    }
  ]
}